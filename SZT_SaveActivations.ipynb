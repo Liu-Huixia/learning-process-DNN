{
 "cells": [
  {
   "cell_type": "code",
   "execution_count": 1,
   "metadata": {},
   "outputs": [],
   "source": [
    "# import keras\n",
    "import tf_keras.backend as K\n",
    "import tensorflow as tf\n",
    "import numpy as np\n",
    "import tf_keras as keras\n",
    "import pickle\n",
    "\n",
    "\n",
    "import utils\n",
    "import loggingreporter \n",
    "\n",
    "cfg = {}\n",
    "cfg['SGD_BATCHSIZE']    = 128\n",
    "cfg['SGD_LEARNINGRATE'] = 0.004\n",
    "cfg['NUM_EPOCHS']       = 10001\n",
    "cfg['FULL_MI']          = True\n",
    "\n",
    "\n",
    "cfg['ACTIVATION'] = 'tanh'\n",
    "# cfg['ACTIVATION'] = 'relu'\n",
    "\n",
    "\n",
    "# cfg['LAYER_DIMS'] = [10,7,5,4,3] \n",
    "cfg['LAYER_DIMS'] = [10,8,6,4,2] \n",
    "ARCH_NAME =  '-'.join(map(str,cfg['LAYER_DIMS']))\n",
    "\n",
    "trn, tst = utils.get_IB_data('2017_12_21_16_51_3_275766')\n",
    "\n",
    "# Where to save activation and weights data\n",
    "cfg['SAVE_DIR'] = 'rawdata/' + cfg['ACTIVATION'] + '_' + ARCH_NAME \n",
    "# cfg['SAVE_DIR'] = 'rawdata/' + cfg['ACTIVATION'] + '_output_' + ARCH_NAME "
   ]
  },
  {
   "cell_type": "code",
   "execution_count": 2,
   "metadata": {},
   "outputs": [],
   "source": [
    "input_layer = keras.layers.Input(shape=(trn.X.shape[1],))\n",
    "clayer = input_layer\n",
    "for n in cfg['LAYER_DIMS']:\n",
    "    clayer = keras.layers.Dense(n, \n",
    "                                activation=cfg['ACTIVATION'],\n",
    "                                kernel_initializer=keras.initializers.TruncatedNormal(mean=0.0, stddev=1/np.sqrt(float(n)), seed=None),\n",
    "                                bias_initializer='zeros'\n",
    "                               )(clayer)\n",
    "output_layer = keras.layers.Dense(trn.nb_classes, activation='softmax')(clayer)\n",
    "model = keras.models.Model(inputs=input_layer, outputs=output_layer)\n",
    "optimizer = keras.optimizers.legacy.SGD(learning_rate=cfg['SGD_LEARNINGRATE'])\n",
    "\n",
    "model.compile(loss='categorical_crossentropy', optimizer=optimizer, metrics=['accuracy'])\n"
   ]
  },
  {
   "cell_type": "code",
   "execution_count": 3,
   "metadata": {
    "scrolled": true
   },
   "outputs": [],
   "source": [
    "def do_report(epoch):\n",
    "    # Only log activity for some epochs.  Mainly this is to make things run faster.\n",
    "    if epoch < 10:       # Log for all first 20 epochs\n",
    "        return True\n",
    "    elif epoch < 200:    # Then for every 5th epoch\n",
    "        return (epoch % 5 == 0)\n",
    "    elif epoch < 2000:    # Then every 10th\n",
    "        return (epoch % 20 == 0)\n",
    "    else:                # Then every 100th\n",
    "        return (epoch % 100 == 0)\n",
    "    \n",
    "reporter = loggingreporter.LoggingReporter(cfg=cfg, \n",
    "                                          trn=trn, \n",
    "                                          tst=tst, \n",
    "                                          do_save_func=do_report)\n",
    "\n",
    "\n",
    "r = model.fit(x=trn.X, y=trn.Y, \n",
    "              verbose    = 0, \n",
    "              batch_size = cfg['SGD_BATCHSIZE'],\n",
    "              epochs     = cfg['NUM_EPOCHS'],\n",
    "              validation_data=(tst.X, tst.Y),\n",
    "              callbacks  = [reporter,])\n"
   ]
  },
  {
   "cell_type": "code",
   "execution_count": 4,
   "metadata": {},
   "outputs": [],
   "source": [
    "# save the losses and accu\n",
    "losses = r.history\n",
    "\n",
    "with open(f\"{cfg['SAVE_DIR']}/losses.pickle\", \"wb\") as f:\n",
    "    pickle.dump(losses, f)\n"
   ]
  },
  {
   "cell_type": "code",
   "execution_count": null,
   "metadata": {},
   "outputs": [],
   "source": []
  }
 ],
 "metadata": {
  "kernelspec": {
   "display_name": "Python 3 (ipykernel)",
   "language": "python",
   "name": "python3"
  },
  "language_info": {
   "codemirror_mode": {
    "name": "ipython",
    "version": 3
   },
   "file_extension": ".py",
   "mimetype": "text/x-python",
   "name": "python",
   "nbconvert_exporter": "python",
   "pygments_lexer": "ipython3",
   "version": "3.11.5"
  },
  "varInspector": {
   "cols": {
    "lenName": 16,
    "lenType": 16,
    "lenVar": 40
   },
   "kernels_config": {
    "python": {
     "delete_cmd_postfix": "",
     "delete_cmd_prefix": "del ",
     "library": "var_list.py",
     "varRefreshCmd": "print(var_dic_list())"
    },
    "r": {
     "delete_cmd_postfix": ") ",
     "delete_cmd_prefix": "rm(",
     "library": "var_list.r",
     "varRefreshCmd": "cat(var_dic_list()) "
    }
   },
   "types_to_exclude": [
    "module",
    "function",
    "builtin_function_or_method",
    "instance",
    "_Feature"
   ],
   "window_display": false
  }
 },
 "nbformat": 4,
 "nbformat_minor": 4
}
